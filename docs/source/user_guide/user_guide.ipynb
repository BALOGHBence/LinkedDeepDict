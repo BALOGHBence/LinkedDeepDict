{
 "cells": [
  {
   "cell_type": "markdown",
   "metadata": {},
   "source": [
    "# User Guide"
   ]
  },
  {
   "cell_type": "markdown",
   "metadata": {
    "editable": true,
    "slideshow": {
     "slide_type": ""
    },
    "tags": [],
    "vscode": {
     "languageId": "plaintext"
    }
   },
   "source": [
    "The user guide walks you through the main concepts and possible pitfalls of the library. The imports in the next code block will cover most of the examples."
   ]
  },
  {
   "cell_type": "code",
   "execution_count": 75,
   "metadata": {
    "editable": true,
    "slideshow": {
     "slide_type": ""
    },
    "tags": []
   },
   "outputs": [],
   "source": [
    "from sigmaepsilon.deepdict import DeepDict\n",
    "from pprint import pprint"
   ]
  },
  {
   "cell_type": "markdown",
   "metadata": {},
   "source": [
    "## How to create a DeepDict?"
   ]
  },
  {
   "cell_type": "markdown",
   "metadata": {
    "editable": true,
    "slideshow": {
     "slide_type": ""
    },
    "tags": []
   },
   "source": [
    "You can simply create a DeepDict the same way you would create an ordinary ``dict``: "
   ]
  },
  {
   "cell_type": "code",
   "execution_count": 76,
   "metadata": {
    "editable": true,
    "slideshow": {
     "slide_type": ""
    },
    "tags": []
   },
   "outputs": [
    {
     "name": "stdout",
     "output_type": "stream",
     "text": [
      "DeepDict({'a': 1, 'b': DeepDict({'c': 2}), 'd': 2})\n"
     ]
    }
   ],
   "source": [
    "data = DeepDict(a=1, b=DeepDict(c=2))\n",
    "data[\"d\"] = 2\n",
    "\n",
    "pprint(data)"
   ]
  },
  {
   "cell_type": "markdown",
   "metadata": {},
   "source": [
    "You can create the same dictionary like this:"
   ]
  },
  {
   "cell_type": "code",
   "execution_count": 77,
   "metadata": {
    "editable": true,
    "slideshow": {
     "slide_type": ""
    },
    "tags": []
   },
   "outputs": [
    {
     "name": "stdout",
     "output_type": "stream",
     "text": [
      "DeepDict({'a': 1, 'd': 2, 'b': DeepDict({'c': 2})})\n"
     ]
    }
   ],
   "source": [
    "data = DeepDict(a=1, d=2)\n",
    "data[\"b\", \"c\"] = 2\n",
    "\n",
    "pprint(data)"
   ]
  },
  {
   "cell_type": "markdown",
   "metadata": {},
   "source": [
    "The only difference here is the order. No surprise, since you provided the values with different order. We can easily make up for this:"
   ]
  },
  {
   "cell_type": "code",
   "execution_count": 78,
   "metadata": {
    "editable": true,
    "slideshow": {
     "slide_type": ""
    },
    "tags": []
   },
   "outputs": [
    {
     "name": "stdout",
     "output_type": "stream",
     "text": [
      "DeepDict({'a': 1, 'b': DeepDict({'c': 2}), 'd': 2})\n"
     ]
    }
   ],
   "source": [
    "data = DeepDict(a=1)\n",
    "data[\"b\", \"c\"] = 2\n",
    "data[\"d\"] = 2\n",
    "\n",
    "pprint(data)"
   ]
  },
  {
   "cell_type": "markdown",
   "metadata": {},
   "source": [
    "Now this is truly the same as the first one."
   ]
  },
  {
   "cell_type": "markdown",
   "metadata": {
    "editable": true,
    "slideshow": {
     "slide_type": ""
    },
    "tags": []
   },
   "source": [
    "### Wrapping a regular ``dict`` instance"
   ]
  },
  {
   "cell_type": "raw",
   "metadata": {
    "editable": true,
    "raw_mimetype": "text/restructuredtext",
    "slideshow": {
     "slide_type": ""
    },
    "tags": []
   },
   "source": [
    "It is also possible to wrap conventional dictionaries using the :func:`~sigmaepsilon.deepdict.deepdict.DeepDict.wrap` instance method:"
   ]
  },
  {
   "cell_type": "code",
   "execution_count": 79,
   "metadata": {
    "editable": true,
    "slideshow": {
     "slide_type": ""
    },
    "tags": []
   },
   "outputs": [
    {
     "data": {
      "text/plain": [
       "3"
      ]
     },
     "execution_count": 79,
     "metadata": {},
     "output_type": "execute_result"
    }
   ],
   "source": [
    "d = {\n",
    "    \"a\" : {\"aa\" : 1},\n",
    "    \"b\" : 2,\n",
    "    \"c\" : {\"cc\" : {\"ccc\" : 3}}, \n",
    "}\n",
    "\n",
    "DeepDict.wrap(d)[\"c\", \"cc\", \"ccc\"]"
   ]
  },
  {
   "cell_type": "markdown",
   "metadata": {},
   "source": [
    "Note that it is also possible to just provide the dictionary to the creator (remember, DeepDicts are dictionaries)"
   ]
  },
  {
   "cell_type": "code",
   "execution_count": 80,
   "metadata": {
    "editable": true,
    "slideshow": {
     "slide_type": ""
    },
    "tags": []
   },
   "outputs": [
    {
     "name": "stdout",
     "output_type": "stream",
     "text": [
      "('cc', 'ccc')\n"
     ]
    }
   ],
   "source": [
    "d = {\n",
    "    \"a\" : {\"aa\" : 1},\n",
    "    \"b\" : 2,\n",
    "    \"c\" : {\"cc\" : {\"ccc\" : 3}}, \n",
    "}\n",
    "try:\n",
    "    DeepDict(d)[\"c\", \"cc\", \"ccc\"]\n",
    "except KeyError as e:\n",
    "    print(e)"
   ]
  },
  {
   "cell_type": "markdown",
   "metadata": {},
   "source": [
    "but you need to treat it as one:"
   ]
  },
  {
   "cell_type": "code",
   "execution_count": 81,
   "metadata": {},
   "outputs": [
    {
     "data": {
      "text/plain": [
       "3"
      ]
     },
     "execution_count": 81,
     "metadata": {},
     "output_type": "execute_result"
    }
   ],
   "source": [
    "DeepDict(d)[\"c\"][\"cc\"][\"ccc\"]"
   ]
  },
  {
   "cell_type": "raw",
   "metadata": {
    "editable": true,
    "raw_mimetype": "text/restructuredtext",
    "slideshow": {
     "slide_type": ""
    },
    "tags": []
   },
   "source": [
    "You can control how the values in the original dictionary are treated with the arguments ``copy`` and ``deepcopy``, refer to the :ref:`api_reference` for the details."
   ]
  },
  {
   "cell_type": "markdown",
   "metadata": {
    "editable": true,
    "slideshow": {
     "slide_type": ""
    },
    "tags": []
   },
   "source": [
    "## Array-like indexing\n",
    "\n",
    "As you've probably already noticed, DeepDict instances support array-like indexing, so the following expressions would all work and return the same value\n",
    "\n",
    "```python\n",
    "d[\"a\"][\"b\"][\"c\"]\n",
    "d[\"a\", \"b\", \"c\"]\n",
    "d[\"a\"][\"b\", \"c\"]\n",
    "d[(\"a\", \"b\", \"c\")]\n",
    "d[[\"a\", \"b\", \"c\"]]\n",
    "```"
   ]
  },
  {
   "cell_type": "markdown",
   "metadata": {
    "editable": true,
    "slideshow": {
     "slide_type": ""
    },
    "tags": []
   },
   "source": [
    "## Iterating over a DeepDict\n",
    "\n",
    "One of the key motives behind the DeepDict class is the ability to introduce layout to an ordinary dictionary, without changing the meaning or the accessibility of the data. To illustrate what we mean here, let's have a dictionary like this:"
   ]
  },
  {
   "cell_type": "code",
   "execution_count": 82,
   "metadata": {
    "editable": true,
    "slideshow": {
     "slide_type": ""
    },
    "tags": []
   },
   "outputs": [],
   "source": [
    "data = {\n",
    "    \"key 1\" : \"value 1\",\n",
    "    \"key 2\" : \"value 2\",\n",
    "    \"key 3\" : \"value 3\",\n",
    "    \"key 4\" : \"value 4\",\n",
    "}"
   ]
  },
  {
   "cell_type": "markdown",
   "metadata": {
    "editable": true,
    "slideshow": {
     "slide_type": ""
    },
    "tags": []
   },
   "source": [
    "If we iterate over the items of this dictionary we get back the items as expected."
   ]
  },
  {
   "cell_type": "code",
   "execution_count": 83,
   "metadata": {
    "editable": true,
    "slideshow": {
     "slide_type": ""
    },
    "tags": []
   },
   "outputs": [
    {
     "data": {
      "text/plain": [
       "[('key 1', 'value 1'),\n",
       " ('key 2', 'value 2'),\n",
       " ('key 3', 'value 3'),\n",
       " ('key 4', 'value 4')]"
      ]
     },
     "execution_count": 83,
     "metadata": {},
     "output_type": "execute_result"
    }
   ],
   "source": [
    "[(k,v) for k, v in data.items()]"
   ]
  },
  {
   "cell_type": "markdown",
   "metadata": {
    "editable": true,
    "slideshow": {
     "slide_type": ""
    },
    "tags": []
   },
   "source": [
    "This is all good, but sometimes we want to add some structure to our data and it is exactly what the DeepDict class makes us able to do. For instance, we can group the values like this:"
   ]
  },
  {
   "cell_type": "code",
   "execution_count": 84,
   "metadata": {
    "editable": true,
    "slideshow": {
     "slide_type": ""
    },
    "tags": []
   },
   "outputs": [],
   "source": [
    "data = {\n",
    "    \"group 1\" : {\n",
    "        \"subgroup 1\" : {\"key 1\" : \"value 1\"},\n",
    "        \"subgroup 2\" : {\"key 2\" : \"value 2\"},\n",
    "    },\n",
    "    \"group 2\" : {\n",
    "        \"subgroup 1\" : {\"key 3\" : \"value 3\"},\n",
    "        \"subgroup 2\" : {\"key 4\" : \"value 4\"},\n",
    "    }\n",
    "}\n",
    "data = DeepDict.wrap(data)"
   ]
  },
  {
   "cell_type": "code",
   "execution_count": 85,
   "metadata": {
    "editable": true,
    "slideshow": {
     "slide_type": ""
    },
    "tags": []
   },
   "outputs": [
    {
     "data": {
      "text/plain": [
       "[('key 1', 'value 1'),\n",
       " ('key 2', 'value 2'),\n",
       " ('key 3', 'value 3'),\n",
       " ('key 4', 'value 4')]"
      ]
     },
     "execution_count": 85,
     "metadata": {},
     "output_type": "execute_result"
    }
   ],
   "source": [
    "[(k,v) for k, v in my_dict.items(deep=True)]"
   ]
  },
  {
   "cell_type": "markdown",
   "metadata": {
    "editable": true,
    "slideshow": {
     "slide_type": ""
    },
    "tags": []
   },
   "source": [
    "We can see that the results are the same, but our data is much more organized. All we had to do was to add the keyword argument ``deep=True`` to allow the parser to go into subdirectories. If you don't provide this argument, or you call the method with ``deep=False``, the instance would work as a regular ``dict`` instance."
   ]
  },
  {
   "cell_type": "code",
   "execution_count": 86,
   "metadata": {
    "editable": true,
    "slideshow": {
     "slide_type": ""
    },
    "tags": []
   },
   "outputs": [
    {
     "data": {
      "text/plain": [
       "[('group 1', DeepDict({'key 1': 'value 1', 'key 2': 'value 2'})),\n",
       " ('group 2', DeepDict({'key 3': 'value 3', 'key 4': 'value 4'}))]"
      ]
     },
     "execution_count": 86,
     "metadata": {},
     "output_type": "execute_result"
    }
   ],
   "source": [
    "[(k,v) for k, v in my_dict.items()]"
   ]
  },
  {
   "cell_type": "markdown",
   "metadata": {
    "editable": true,
    "raw_mimetype": "",
    "slideshow": {
     "slide_type": ""
    },
    "tags": []
   },
   "source": [
    "You can also pass the argument ``return_address=True`` if you want to get the address of a value relative to the root."
   ]
  },
  {
   "cell_type": "code",
   "execution_count": 87,
   "metadata": {
    "editable": true,
    "slideshow": {
     "slide_type": ""
    },
    "tags": []
   },
   "outputs": [
    {
     "name": "stdout",
     "output_type": "stream",
     "text": [
      "Address: ['group 1', 'subgroup 1'], Key: key 1\n",
      "Address: ['group 1', 'subgroup 2'], Key: key 2\n",
      "Address: ['group 2', 'subgroup 1'], Key: key 3\n",
      "Address: ['group 2', 'subgroup 2'], Key: key 4\n"
     ]
    }
   ],
   "source": [
    "for *addr, key in data.keys(deep=True, return_address=True):\n",
    "    print(f\"Address: {addr}, Key: {key}\")"
   ]
  },
  {
   "cell_type": "raw",
   "metadata": {
    "editable": true,
    "raw_mimetype": "text/restructuredtext",
    "slideshow": {
     "slide_type": ""
    },
    "tags": []
   },
   "source": [
    "This behaviour applies for the instance methods :func:`~sigmaepsilon.deepdict.deepdict.DeepDict.keys`, :func:`~sigmaepsilon.deepdict.deepdict.DeepDict.values` and :func:`~sigmaepsilon.deepdict.deepdict.DeepDict.items` as well."
   ]
  },
  {
   "cell_type": "markdown",
   "metadata": {
    "editable": true,
    "slideshow": {
     "slide_type": ""
    },
    "tags": []
   },
   "source": [
    "### Iterating over sub-dictionaries"
   ]
  },
  {
   "cell_type": "code",
   "execution_count": 88,
   "metadata": {
    "editable": true,
    "slideshow": {
     "slide_type": ""
    },
    "tags": []
   },
   "outputs": [
    {
     "name": "stdout",
     "output_type": "stream",
     "text": [
      "DeepDict({'subgroup 1': DeepDict({'key 1': 'value 1'}), 'subgroup 2': DeepDict({'key 2': 'value 2'})})\n",
      "DeepDict({'key 1': 'value 1'})\n",
      "DeepDict({'key 2': 'value 2'})\n",
      "DeepDict({'subgroup 1': DeepDict({'key 3': 'value 3'}), 'subgroup 2': DeepDict({'key 4': 'value 4'})})\n",
      "DeepDict({'key 3': 'value 3'})\n",
      "DeepDict({'key 4': 'value 4'})\n"
     ]
    }
   ],
   "source": [
    "for c in data.containers():\n",
    "    pprint(c)"
   ]
  },
  {
   "cell_type": "markdown",
   "metadata": {
    "editable": true,
    "slideshow": {
     "slide_type": ""
    },
    "tags": []
   },
   "source": [
    "Maybe you noticed, that 'data' itself was not printed. You can call `containers` with the argument `inclusive=True`, in which case the outermost container is also included:"
   ]
  },
  {
   "cell_type": "code",
   "execution_count": 89,
   "metadata": {
    "editable": true,
    "slideshow": {
     "slide_type": ""
    },
    "tags": []
   },
   "outputs": [
    {
     "name": "stdout",
     "output_type": "stream",
     "text": [
      "DeepDict({'group 1': DeepDict({'subgroup 1': DeepDict({'key 1': 'value 1'}), 'subgroup 2': DeepDict({'key 2': 'value 2'})}), 'group 2': DeepDict({'subgroup 1': DeepDict({'key 3': 'value 3'}), 'subgroup 2': DeepDict({'key 4': 'value 4'})})})\n",
      "DeepDict({'subgroup 1': DeepDict({'key 1': 'value 1'}), 'subgroup 2': DeepDict({'key 2': 'value 2'})})\n",
      "DeepDict({'key 1': 'value 1'})\n",
      "DeepDict({'key 2': 'value 2'})\n",
      "DeepDict({'subgroup 1': DeepDict({'key 3': 'value 3'}), 'subgroup 2': DeepDict({'key 4': 'value 4'})})\n",
      "DeepDict({'key 3': 'value 3'})\n",
      "DeepDict({'key 4': 'value 4'})\n"
     ]
    }
   ],
   "source": [
    "for c in data.containers(inclusive=True):\n",
    "    pprint(c)"
   ]
  },
  {
   "cell_type": "markdown",
   "metadata": {
    "editable": true,
    "slideshow": {
     "slide_type": ""
    },
    "tags": []
   },
   "source": [
    "If you only want to get the containers that have no subdictionaries, you can do this:"
   ]
  },
  {
   "cell_type": "code",
   "execution_count": 90,
   "metadata": {
    "editable": true,
    "slideshow": {
     "slide_type": ""
    },
    "tags": []
   },
   "outputs": [
    {
     "data": {
      "text/plain": [
       "[DeepDict({'key 1': 'value 1'}),\n",
       " DeepDict({'key 2': 'value 2'}),\n",
       " DeepDict({'key 3': 'value 3'}),\n",
       " DeepDict({'key 4': 'value 4'})]"
      ]
     },
     "execution_count": 90,
     "metadata": {},
     "output_type": "execute_result"
    }
   ],
   "source": [
    "list(filter(lambda d: d.is_leaf(), data.containers(inclusive=True)))"
   ]
  },
  {
   "cell_type": "markdown",
   "metadata": {
    "editable": true,
    "slideshow": {
     "slide_type": ""
    },
    "tags": []
   },
   "source": [
    "The `containers` method also accepts the argument `deep`, but it is `True` by default."
   ]
  },
  {
   "cell_type": "markdown",
   "metadata": {
    "editable": true,
    "slideshow": {
     "slide_type": ""
    },
    "tags": []
   },
   "source": [
    "## Parent-child relationships and membership testing"
   ]
  },
  {
   "cell_type": "markdown",
   "metadata": {
    "editable": true,
    "slideshow": {
     "slide_type": ""
    },
    "tags": []
   },
   "source": [
    "When you create a DeepDict with many levels, each subdirectory knows who they parents are and what are their keys in those parents."
   ]
  },
  {
   "cell_type": "code",
   "execution_count": 91,
   "metadata": {
    "editable": true,
    "slideshow": {
     "slide_type": ""
    },
    "tags": []
   },
   "outputs": [
    {
     "data": {
      "text/plain": [
       "(True, 'c')"
      ]
     },
     "execution_count": 91,
     "metadata": {},
     "output_type": "execute_result"
    }
   ],
   "source": [
    "data = DeepDict()\n",
    "data['a', 'b', 'c', 'e'] = 1\n",
    "data['a', 'b', 'c'].parent is data['a', 'b'], data['a', 'b', 'c'].key"
   ]
  },
  {
   "cell_type": "markdown",
   "metadata": {
    "editable": true,
    "slideshow": {
     "slide_type": ""
    },
    "tags": []
   },
   "source": [
    "This information makes it possible for membership tests among DeepDict instances:"
   ]
  },
  {
   "cell_type": "code",
   "execution_count": 92,
   "metadata": {
    "editable": true,
    "slideshow": {
     "slide_type": ""
    },
    "tags": []
   },
   "outputs": [
    {
     "data": {
      "text/plain": [
       "True"
      ]
     },
     "execution_count": 92,
     "metadata": {},
     "output_type": "execute_result"
    }
   ],
   "source": [
    "data['a', 'b', 'c'] in data['a', 'b']"
   ]
  },
  {
   "cell_type": "markdown",
   "metadata": {
    "editable": true,
    "slideshow": {
     "slide_type": ""
    },
    "tags": []
   },
   "source": [
    "## Locking the layout"
   ]
  },
  {
   "cell_type": "markdown",
   "metadata": {
    "editable": true,
    "slideshow": {
     "slide_type": ""
    },
    "tags": []
   },
   "source": [
    "Previously you have seen, that a DeepDict instance can be created like this:"
   ]
  },
  {
   "cell_type": "code",
   "execution_count": 93,
   "metadata": {
    "editable": true,
    "slideshow": {
     "slide_type": ""
    },
    "tags": []
   },
   "outputs": [],
   "source": [
    "data = DeepDict()\n",
    "data['a', 'b', 'c', 'e'] = 1"
   ]
  },
  {
   "cell_type": "markdown",
   "metadata": {
    "editable": true,
    "slideshow": {
     "slide_type": ""
    },
    "tags": []
   },
   "source": [
    "This rises some questions. Can a DeepDict isntance raise a `KeyError` at all? The answer is that it depends. Be default, they can't. Whenever a key is missing, a deeper level is created immediately. When you type `data['a'] = 1`, first a DeepDict is assigned to `data` with the key 'a', then it gets overwritten by the value 1. However, you can freeze the layout of a DeepDict when you feel that you are ready building your dataset."
   ]
  },
  {
   "cell_type": "code",
   "execution_count": 94,
   "metadata": {},
   "outputs": [
    {
     "data": {
      "text/plain": [
       "True"
      ]
     },
     "execution_count": 94,
     "metadata": {},
     "output_type": "execute_result"
    }
   ],
   "source": [
    "data.lock()\n",
    "data.locked"
   ]
  },
  {
   "cell_type": "markdown",
   "metadata": {},
   "source": [
    "Now adding a missing key would raise a `KeyError`."
   ]
  },
  {
   "cell_type": "code",
   "execution_count": 95,
   "metadata": {},
   "outputs": [
    {
     "name": "stdout",
     "output_type": "stream",
     "text": [
      "\"Missing key 'b' and the object is locked!\"\n"
     ]
    }
   ],
   "source": [
    "try:\n",
    "    data[\"b\"] = 1\n",
    "except KeyError as e:\n",
    "    print(e)"
   ]
  },
  {
   "cell_type": "markdown",
   "metadata": {
    "editable": true,
    "slideshow": {
     "slide_type": ""
    },
    "tags": []
   },
   "source": [
    "Of course you can unlock the layout of the instance whenever you want it."
   ]
  },
  {
   "cell_type": "code",
   "execution_count": 96,
   "metadata": {
    "editable": true,
    "slideshow": {
     "slide_type": ""
    },
    "tags": []
   },
   "outputs": [
    {
     "data": {
      "text/plain": [
       "False"
      ]
     },
     "execution_count": 96,
     "metadata": {},
     "output_type": "execute_result"
    }
   ],
   "source": [
    "data.unlock()\n",
    "data.locked"
   ]
  },
  {
   "cell_type": "markdown",
   "metadata": {},
   "source": [
    "And you can add your new data"
   ]
  },
  {
   "cell_type": "code",
   "execution_count": 97,
   "metadata": {
    "editable": true,
    "slideshow": {
     "slide_type": ""
    },
    "tags": []
   },
   "outputs": [],
   "source": [
    "data[\"b\"] = 1"
   ]
  },
  {
   "cell_type": "markdown",
   "metadata": {
    "editable": true,
    "slideshow": {
     "slide_type": ""
    },
    "tags": []
   },
   "source": [
    "Locking your `DeepDict` is essential in some situations, otherwise there is no way to tell if you are in the wrong or not. Typos are a real threat here."
   ]
  },
  {
   "cell_type": "markdown",
   "metadata": {
    "editable": true,
    "slideshow": {
     "slide_type": ""
    },
    "tags": []
   },
   "source": [
    "## Layout information"
   ]
  },
  {
   "cell_type": "markdown",
   "metadata": {},
   "source": [
    "Every container inside a DeepDict has a parent. The only container that has no parent is the outermost container itself (here 'data')."
   ]
  },
  {
   "cell_type": "code",
   "execution_count": 98,
   "metadata": {},
   "outputs": [
    {
     "data": {
      "text/plain": [
       "'b'"
      ]
     },
     "execution_count": 98,
     "metadata": {},
     "output_type": "execute_result"
    }
   ],
   "source": [
    "data = DeepDict()\n",
    "data['a', 'b', 'c', 'e'] = 1\n",
    "data['a', 'b', 'c'].parent.key"
   ]
  },
  {
   "cell_type": "markdown",
   "metadata": {},
   "source": [
    "As you might have already guessed, nested containers also know how they are stored in their parent via attributes like `key` and `address`."
   ]
  },
  {
   "cell_type": "code",
   "execution_count": 99,
   "metadata": {},
   "outputs": [
    {
     "data": {
      "text/plain": [
       "('b', ['a', 'b'])"
      ]
     },
     "execution_count": 99,
     "metadata": {},
     "output_type": "execute_result"
    }
   ],
   "source": [
    "data['a', 'b', 'c'].parent.key, data['a', 'b', 'c'].parent.address"
   ]
  },
  {
   "cell_type": "markdown",
   "metadata": {},
   "source": [
    "The nested containers also keep a reference to the outermost container (or none of these):"
   ]
  },
  {
   "cell_type": "code",
   "execution_count": 100,
   "metadata": {},
   "outputs": [
    {
     "data": {
      "text/plain": [
       "DeepDict({'a': DeepDict({'b': DeepDict({'c': DeepDict({'e': 1})})})})"
      ]
     },
     "execution_count": 100,
     "metadata": {},
     "output_type": "execute_result"
    }
   ],
   "source": [
    "data['a', 'b', 'c'].root"
   ]
  },
  {
   "cell_type": "markdown",
   "metadata": {},
   "source": [
    "You can easily check if a container is a root, or a leaf:"
   ]
  },
  {
   "cell_type": "code",
   "execution_count": 101,
   "metadata": {},
   "outputs": [
    {
     "data": {
      "text/plain": [
       "(False, True)"
      ]
     },
     "execution_count": 101,
     "metadata": {},
     "output_type": "execute_result"
    }
   ],
   "source": [
    "data['a', 'b', 'c'].is_root(), data['a', 'b', 'c'].is_leaf()"
   ]
  },
  {
   "cell_type": "markdown",
   "metadata": {
    "editable": true,
    "slideshow": {
     "slide_type": ""
    },
    "tags": []
   },
   "source": [
    "## Differences between ``dict`` and ``DeepDict``"
   ]
  },
  {
   "cell_type": "markdown",
   "metadata": {
    "editable": true,
    "slideshow": {
     "slide_type": ""
    },
    "tags": []
   },
   "source": [
    "In most cases a DeepDict works identically to regular dictionaries. One difference is how they provide access to deep levels."
   ]
  },
  {
   "cell_type": "markdown",
   "metadata": {},
   "source": [
    "Let say we create a dictionary like this:"
   ]
  },
  {
   "cell_type": "code",
   "execution_count": 102,
   "metadata": {},
   "outputs": [
    {
     "data": {
      "text/plain": [
       "{(1, 2): 'A'}"
      ]
     },
     "execution_count": 102,
     "metadata": {},
     "output_type": "execute_result"
    }
   ],
   "source": [
    "{(1, 2): 'A'}"
   ]
  },
  {
   "cell_type": "markdown",
   "metadata": {},
   "source": [
    "Since tuples ar immutable, you can use them as keys in a dictionary. If you do the same with a DeepDict, the result is going to be different:"
   ]
  },
  {
   "cell_type": "code",
   "execution_count": 103,
   "metadata": {},
   "outputs": [
    {
     "data": {
      "text/plain": [
       "DeepDict({1: DeepDict({2: 'A'})})"
      ]
     },
     "execution_count": 103,
     "metadata": {},
     "output_type": "execute_result"
    }
   ],
   "source": [
    "d = DeepDict()\n",
    "d[(1, 2)] = \"A\"\n",
    "d"
   ]
  },
  {
   "cell_type": "markdown",
   "metadata": {},
   "source": [
    "As you can see, in the second case, the value 'A' is in a nested dictionary with key 2, which itself is in a dictionary with key 1. The reason for this is that the previous cell is identical to the following one."
   ]
  },
  {
   "cell_type": "code",
   "execution_count": 104,
   "metadata": {},
   "outputs": [
    {
     "data": {
      "text/plain": [
       "DeepDict({1: DeepDict({2: 'A'})})"
      ]
     },
     "execution_count": 104,
     "metadata": {},
     "output_type": "execute_result"
    }
   ],
   "source": [
    "d = DeepDict()\n",
    "d[1, 2] = \"A\"\n",
    "d"
   ]
  },
  {
   "cell_type": "markdown",
   "metadata": {},
   "source": [
    "To keep the array-like index mechanism is more important and is a design decision here. The good news is that at the end of the day, the behaviour is the same (at least in tis case):"
   ]
  },
  {
   "cell_type": "code",
   "execution_count": 105,
   "metadata": {},
   "outputs": [
    {
     "data": {
      "text/plain": [
       "'A'"
      ]
     },
     "execution_count": 105,
     "metadata": {},
     "output_type": "execute_result"
    }
   ],
   "source": [
    "{(1, 2): 'A'}[(1, 2)]"
   ]
  },
  {
   "cell_type": "code",
   "execution_count": 106,
   "metadata": {},
   "outputs": [
    {
     "data": {
      "text/plain": [
       "'A'"
      ]
     },
     "execution_count": 106,
     "metadata": {},
     "output_type": "execute_result"
    }
   ],
   "source": [
    "DeepDict.wrap({(1, 2): 'A'})[(1, 2)]"
   ]
  },
  {
   "cell_type": "code",
   "execution_count": 107,
   "metadata": {},
   "outputs": [
    {
     "data": {
      "text/plain": [
       "True"
      ]
     },
     "execution_count": 107,
     "metadata": {},
     "output_type": "execute_result"
    }
   ],
   "source": [
    "(1, 2) in d"
   ]
  },
  {
   "cell_type": "raw",
   "metadata": {
    "editable": true,
    "raw_mimetype": "text/restructuredtext",
    "slideshow": {
     "slide_type": ""
    },
    "tags": []
   },
   "source": [
    ".. important::\n",
    "   This evaluated to true not because the tuple ``(1, 2)`` is contained in ``d``, but because ``1`` is in ``d`` and ``2`` is in ``d[1]``."
   ]
  },
  {
   "cell_type": "raw",
   "metadata": {
    "editable": true,
    "raw_mimetype": "text/restructuredtext",
    "slideshow": {
     "slide_type": ""
    },
    "tags": []
   },
   "source": [
    "If you really want ``(1, 2)`` to be a single key, you can use the :class:`~sigmaepsilon.deepdict.deepdict.Key` helper class:"
   ]
  },
  {
   "cell_type": "code",
   "execution_count": 108,
   "metadata": {
    "editable": true,
    "slideshow": {
     "slide_type": ""
    },
    "tags": []
   },
   "outputs": [
    {
     "data": {
      "text/plain": [
       "DeepDict({(1, 2): 'A'})"
      ]
     },
     "execution_count": 108,
     "metadata": {},
     "output_type": "execute_result"
    }
   ],
   "source": [
    "from sigmaepsilon.deepdict import Key\n",
    "\n",
    "d = DeepDict()\n",
    "d[Key((1, 2))] = \"A\"\n",
    "d"
   ]
  },
  {
   "cell_type": "code",
   "execution_count": 109,
   "metadata": {
    "editable": true,
    "slideshow": {
     "slide_type": ""
    },
    "tags": []
   },
   "outputs": [
    {
     "data": {
      "text/plain": [
       "'A'"
      ]
     },
     "execution_count": 109,
     "metadata": {},
     "output_type": "execute_result"
    }
   ],
   "source": [
    "d[Key((1, 2))]"
   ]
  },
  {
   "cell_type": "code",
   "execution_count": 110,
   "metadata": {
    "editable": true,
    "slideshow": {
     "slide_type": ""
    },
    "tags": []
   },
   "outputs": [
    {
     "data": {
      "text/plain": [
       "(False, True)"
      ]
     },
     "execution_count": 110,
     "metadata": {},
     "output_type": "execute_result"
    }
   ],
   "source": [
    "(1, 2) in d, Key((1, 2)) in d"
   ]
  },
  {
   "cell_type": "markdown",
   "metadata": {},
   "source": [
    "## Printing"
   ]
  },
  {
   "cell_type": "markdown",
   "metadata": {},
   "source": [
    "It is possible to print a `DeepDict`, or a regular `dict` instance as a tree, using the `asciitree` package. Install it with\n",
    "\n",
    "```console\n",
    "$ pip install asciitree\n",
    "```\n",
    "\n",
    "and use the `asciiprint` method from `sigmaepsilon.deepdict`:"
   ]
  },
  {
   "cell_type": "code",
   "execution_count": 111,
   "metadata": {
    "editable": true,
    "slideshow": {
     "slide_type": ""
    },
    "tags": []
   },
   "outputs": [
    {
     "name": "stdout",
     "output_type": "stream",
     "text": [
      "Data\n",
      " +-- a\n",
      " +-- c\n",
      "     +-- cc\n"
     ]
    }
   ],
   "source": [
    "from sigmaepsilon.deepdict import asciiprint\n",
    "\n",
    "d = {\n",
    "    \"a\" : {\"aa\" : 1},\n",
    "    \"b\" : 2,\n",
    "    \"c\" : {\"cc\" : {\"ccc\" : 3}}, \n",
    "}\n",
    "\n",
    "data = DeepDict.wrap(d)\n",
    "data.name = \"Data\"\n",
    "\n",
    "asciiprint(data)"
   ]
  },
  {
   "cell_type": "markdown",
   "metadata": {},
   "source": [
    "For more comprehensive and detailed information about the `asciitree` library, please refer to the [official documentation](https://pythonhosted.org/asciitree/#)."
   ]
  },
  {
   "cell_type": "markdown",
   "metadata": {
    "editable": true,
    "slideshow": {
     "slide_type": ""
    },
    "tags": []
   },
   "source": [
    "## Customizing the behaviour upon joining or leaving a parent"
   ]
  },
  {
   "cell_type": "raw",
   "metadata": {
    "editable": true,
    "raw_mimetype": "text/restructuredtext",
    "slideshow": {
     "slide_type": ""
    },
    "tags": []
   },
   "source": [
    "You can customize what happens when a DeepDict instance joins or leaves its parent DeepDict instance by overriding the special methods :func:`~sigmaepsilon.deepdict.deepdict.DeepDict.__before_join_parent__`, :func:`~sigmaepsilon.deepdict.deepdict.DeepDict.__after_join_parent__`, :func:`~sigmaepsilon.deepdict.deepdict.DeepDict.__before_leave_parent__` and :func:`~sigmaepsilon.deepdict.deepdict.DeepDict.__after_leave_parent__`."
   ]
  },
  {
   "cell_type": "code",
   "execution_count": 112,
   "metadata": {
    "editable": true,
    "slideshow": {
     "slide_type": ""
    },
    "tags": []
   },
   "outputs": [
    {
     "name": "stdout",
     "output_type": "stream",
     "text": [
      "'Rebeca' is about to join team 'Velocity Raptors' with role 'data engineer'\n",
      "'Rebeca' joined team 'Velocity Raptors' with role 'data engineer'\n"
     ]
    }
   ],
   "source": [
    "class CustomDict(DeepDict):\n",
    "    def __before_join_parent__(self, parent, key):\n",
    "        print(f\"'{self.name}' is about to join team '{parent.name}' with role '{key}'\")\n",
    "\n",
    "    def __after_join_parent__(self, parent, key):\n",
    "        print(f\"'{self.name}' joined team '{parent.name}' with role '{key}'\")\n",
    "        super().__after_join_parent__(parent, key)\n",
    "        \n",
    "    def __before_leave_parent__(self):\n",
    "        parent, key = self.parent, self.key\n",
    "        print(f\"'{self.name}' is about to leave team '{parent.name}' with role '{key}'\")\n",
    "\n",
    "    def __after_leave_parent__(self):\n",
    "        parent, key = self.parent, self.key\n",
    "        print(f\"'{self.name}' has left team '{parent.name}' with role '{key}'\")\n",
    "        super().__after_leave_parent__()\n",
    "\n",
    "\n",
    "team = DeepDict()\n",
    "team.name = \"Velocity Raptors\"\n",
    "\n",
    "member = CustomDict()\n",
    "member.name = \"Rebeca\"\n",
    "\n",
    "team[\"data engineer\"] = member"
   ]
  },
  {
   "cell_type": "code",
   "execution_count": 113,
   "metadata": {},
   "outputs": [
    {
     "name": "stdout",
     "output_type": "stream",
     "text": [
      "'Rebeca' is about to leave team 'Velocity Raptors' with role 'data engineer'\n",
      "'Rebeca' has left team 'Velocity Raptors' with role 'data engineer'\n"
     ]
    }
   ],
   "source": [
    "del team[\"data engineer\"]"
   ]
  },
  {
   "cell_type": "code",
   "execution_count": 114,
   "metadata": {
    "editable": true,
    "slideshow": {
     "slide_type": ""
    },
    "tags": []
   },
   "outputs": [
    {
     "data": {
      "text/plain": [
       "(False, True)"
      ]
     },
     "execution_count": 114,
     "metadata": {},
     "output_type": "execute_result"
    }
   ],
   "source": [
    "member in team, member.is_root()"
   ]
  }
 ],
 "metadata": {
  "kernelspec": {
   "display_name": "Python (sigmaepsilon.deepdict)",
   "language": "python",
   "name": "sigmaepsilon.deepdict"
  },
  "language_info": {
   "codemirror_mode": {
    "name": "ipython",
    "version": 3
   },
   "file_extension": ".py",
   "mimetype": "text/x-python",
   "name": "python",
   "nbconvert_exporter": "python",
   "pygments_lexer": "ipython3",
   "version": "3.10.11"
  }
 },
 "nbformat": 4,
 "nbformat_minor": 4
}
